{
 "cells": [
  {
   "cell_type": "markdown",
   "id": "e0fd07a9",
   "metadata": {},
   "source": [
    "# == Explorando comandos ==\n",
    "##       ETL / Análise Exploratória"
   ]
  },
  {
   "cell_type": "markdown",
   "id": "f2752d8c",
   "metadata": {},
   "source": [
    "## Carregamento e validação dos dados"
   ]
  },
  {
   "cell_type": "code",
   "execution_count": 1,
   "id": "65e0440a",
   "metadata": {},
   "outputs": [],
   "source": [
    "import pandas as pd\n",
    "import pandera as pa\n",
    "import matplotlib.pyplot as plt"
   ]
  },
  {
   "cell_type": "code",
   "execution_count": 2,
   "id": "e3e999ef",
   "metadata": {},
   "outputs": [],
   "source": [
    "df1 = pd.read_excel(\"../datasets/Aracaju.xlsx\")\n",
    "df2 = pd.read_excel(\"../datasets/Fortaleza.xlsx\")\n",
    "df3 = pd.read_excel(\"../datasets/Natal.xlsx\")\n",
    "df4 = pd.read_excel(\"../datasets/Recife.xlsx\")\n",
    "df5 = pd.read_excel(\"../datasets/Salvador.xlsx\")"
   ]
  },
  {
   "cell_type": "code",
   "execution_count": 3,
   "id": "87a24086",
   "metadata": {},
   "outputs": [
    {
     "data": {
      "text/html": [
       "<div>\n",
       "<style scoped>\n",
       "    .dataframe tbody tr th:only-of-type {\n",
       "        vertical-align: middle;\n",
       "    }\n",
       "\n",
       "    .dataframe tbody tr th {\n",
       "        vertical-align: top;\n",
       "    }\n",
       "\n",
       "    .dataframe thead th {\n",
       "        text-align: right;\n",
       "    }\n",
       "</style>\n",
       "<table border=\"1\" class=\"dataframe\">\n",
       "  <thead>\n",
       "    <tr style=\"text-align: right;\">\n",
       "      <th></th>\n",
       "      <th>Cidade</th>\n",
       "      <th>Data</th>\n",
       "      <th>Vendas</th>\n",
       "      <th>LojaID</th>\n",
       "      <th>Qtde</th>\n",
       "    </tr>\n",
       "  </thead>\n",
       "  <tbody>\n",
       "    <tr>\n",
       "      <th>83</th>\n",
       "      <td>Aracaju</td>\n",
       "      <td>2018-01-01</td>\n",
       "      <td>14.44</td>\n",
       "      <td>1520</td>\n",
       "      <td>5</td>\n",
       "    </tr>\n",
       "    <tr>\n",
       "      <th>28</th>\n",
       "      <td>Aracaju</td>\n",
       "      <td>2018-01-01</td>\n",
       "      <td>114.93</td>\n",
       "      <td>1520</td>\n",
       "      <td>5</td>\n",
       "    </tr>\n",
       "    <tr>\n",
       "      <th>22</th>\n",
       "      <td>Aracaju</td>\n",
       "      <td>2018-01-01</td>\n",
       "      <td>150.94</td>\n",
       "      <td>1522</td>\n",
       "      <td>1</td>\n",
       "    </tr>\n",
       "    <tr>\n",
       "      <th>82</th>\n",
       "      <td>Aracaju</td>\n",
       "      <td>2018-01-01</td>\n",
       "      <td>150.48</td>\n",
       "      <td>1522</td>\n",
       "      <td>4</td>\n",
       "    </tr>\n",
       "    <tr>\n",
       "      <th>49</th>\n",
       "      <td>Aracaju</td>\n",
       "      <td>2018-01-01</td>\n",
       "      <td>53.74</td>\n",
       "      <td>1522</td>\n",
       "      <td>3</td>\n",
       "    </tr>\n",
       "  </tbody>\n",
       "</table>\n",
       "</div>"
      ],
      "text/plain": [
       "     Cidade       Data  Vendas  LojaID  Qtde\n",
       "83  Aracaju 2018-01-01   14.44    1520     5\n",
       "28  Aracaju 2018-01-01  114.93    1520     5\n",
       "22  Aracaju 2018-01-01  150.94    1522     1\n",
       "82  Aracaju 2018-01-01  150.48    1522     4\n",
       "49  Aracaju 2018-01-01   53.74    1522     3"
      ]
     },
     "execution_count": 3,
     "metadata": {},
     "output_type": "execute_result"
    }
   ],
   "source": [
    "df1.sample(5) #Verificando o carregamento dos Dataframes"
   ]
  },
  {
   "cell_type": "code",
   "execution_count": 4,
   "id": "e810886a",
   "metadata": {},
   "outputs": [
    {
     "name": "stdout",
     "output_type": "stream",
     "text": [
      "Tipos em df1: \n",
      "Cidade            object\n",
      "Data      datetime64[ns]\n",
      "Vendas           float64\n",
      "LojaID             int64\n",
      "Qtde               int64\n",
      "dtype: object\n",
      "\n",
      "Tipos em df2: \n",
      "Cidade            object\n",
      "Data      datetime64[ns]\n",
      "Vendas           float64\n",
      "LojaID             int64\n",
      "Qtde               int64\n",
      "dtype: object\n",
      "\n",
      "Tipos em df3: \n",
      "Cidade            object\n",
      "Data      datetime64[ns]\n",
      "Vendas           float64\n",
      "LojaID             int64\n",
      "Qtde               int64\n",
      "dtype: object\n",
      "\n",
      "Tipos em df4: \n",
      "Cidade            object\n",
      "Data      datetime64[ns]\n",
      "Vendas           float64\n",
      "LojaID             int64\n",
      "Qtde               int64\n",
      "dtype: object\n",
      "\n",
      "Tipos em df5: \n",
      "Cidade            object\n",
      "Data      datetime64[ns]\n",
      "Vendas           float64\n",
      "LojaID             int64\n",
      "Qtde               int64\n",
      "dtype: object\n"
     ]
    }
   ],
   "source": [
    "#Verificando os tipos de dados em cada coluna dos DF carregados\n",
    "\n",
    "print (\"Tipos em df1: \\n{}\\n\".format(df1.dtypes))\n",
    "print (\"Tipos em df2: \\n{}\\n\".format(df2.dtypes))\n",
    "print (\"Tipos em df3: \\n{}\\n\".format(df3.dtypes))\n",
    "print (\"Tipos em df4: \\n{}\\n\".format(df4.dtypes))\n",
    "print (\"Tipos em df5: \\n{}\".format(df5.dtypes))"
   ]
  },
  {
   "cell_type": "code",
   "execution_count": 5,
   "id": "7ec91b8b",
   "metadata": {},
   "outputs": [
    {
     "data": {
      "text/plain": [
       "Cidade    240\n",
       "Data      240\n",
       "Vendas    240\n",
       "LojaID    240\n",
       "Qtde      240\n",
       "dtype: int64"
      ]
     },
     "execution_count": 5,
     "metadata": {},
     "output_type": "execute_result"
    }
   ],
   "source": [
    "df5.count()"
   ]
  },
  {
   "cell_type": "code",
   "execution_count": 6,
   "id": "60dfc770",
   "metadata": {},
   "outputs": [],
   "source": [
    "#Criação de Schema para validação do dados\n",
    "schema = pa.DataFrameSchema(\n",
    "        columns= {\n",
    "            \"Cidade\": pa.Column(pa.Object),\n",
    "            \"Data\": pa.Column(pa.DateTime),\n",
    "            \"Vendas\": pa.Column(pa.Float64),\n",
    "            \"LojaID\": pa.Column(pa.Int64),\n",
    "            \"Qtde\": pa.Column(pa.Int64)\n",
    "        }\n",
    ")"
   ]
  },
  {
   "cell_type": "code",
   "execution_count": 7,
   "id": "24329aba",
   "metadata": {},
   "outputs": [
    {
     "name": "stdout",
     "output_type": "stream",
     "text": [
      "      Cidade       Data  Vendas  LojaID  Qtde\n",
      "0    Aracaju 2018-01-01  142.00    1520     1\n",
      "1    Aracaju 2018-01-01   14.21    1522     6\n",
      "2    Aracaju 2018-01-01   71.55    1520     1\n",
      "3    Aracaju 2018-01-01    3.01    1521     7\n",
      "4    Aracaju 2018-01-01   24.51    1522     8\n",
      "..       ...        ...     ...     ...   ...\n",
      "125  Aracaju 2018-01-01   15.62    1522     2\n",
      "126  Aracaju 2018-01-01   13.41    1520     7\n",
      "127  Aracaju 2018-01-01   33.12    1522     9\n",
      "128  Aracaju 2018-01-01   37.49    1521     2\n",
      "129  Aracaju 2018-01-01   13.70    1522     6\n",
      "\n",
      "[130 rows x 5 columns] VALIDADO!\n",
      "\n",
      "        Cidade       Data  Vendas  LojaID  Qtde\n",
      "0    Fortaleza 2019-01-01   45.27    1002     2\n",
      "1    Fortaleza 2019-01-01  115.61    1002     3\n",
      "2    Fortaleza 2019-02-10   35.33    1004     3\n",
      "3    Fortaleza 2019-02-10   20.95    1004     6\n",
      "4    Fortaleza 2019-01-01   14.25    1004     6\n",
      "..         ...        ...     ...     ...   ...\n",
      "137  Fortaleza 2019-03-02   51.99     983     3\n",
      "138  Fortaleza 2019-03-02  150.38     983     6\n",
      "139  Fortaleza 2019-03-02  141.16     980     7\n",
      "140  Fortaleza 2019-03-02  166.89     983     5\n",
      "141  Fortaleza 2019-03-02  182.75     983     8\n",
      "\n",
      "[142 rows x 5 columns] VALIDADO!\n",
      "\n",
      "    Cidade       Data  Vendas  LojaID  Qtde\n",
      "0    Natal 2018-08-27  606.00     853     2\n",
      "1    Natal 2018-11-25  563.00     853     2\n",
      "2    Natal 2019-03-11  308.00     852     3\n",
      "3    Natal 2019-01-07  271.00     854     3\n",
      "4    Natal 2019-03-09  699.00     853     3\n",
      "..     ...        ...     ...     ...   ...\n",
      "235  Natal 2019-01-03   41.84    1034     1\n",
      "236  Natal 2019-01-03  126.29    1035     3\n",
      "237  Natal 2019-01-03   38.06    1036     3\n",
      "238  Natal 2019-01-03  139.64    1035     1\n",
      "239  Natal 2019-01-03  161.41    1037     3\n",
      "\n",
      "[240 rows x 5 columns] VALIDADO!\n",
      "\n",
      "     Cidade       Data  Vendas  LojaID  Qtde\n",
      "0    Recife 2019-01-01  162.61     981     1\n",
      "1    Recife 2019-01-01   11.44     983     1\n",
      "2    Recife 2019-02-10   12.94     983     5\n",
      "3    Recife 2019-02-10  160.54     981     3\n",
      "4    Recife 2019-02-14   19.89     983     7\n",
      "..      ...        ...     ...     ...   ...\n",
      "137  Recife 2019-03-02   51.99     983     3\n",
      "138  Recife 2019-03-02  150.38     983     6\n",
      "139  Recife 2019-03-02  141.16     980     7\n",
      "140  Recife 2019-03-02  166.89     983     5\n",
      "141  Recife 2019-03-02  182.75     983     8\n",
      "\n",
      "[142 rows x 5 columns] VALIDADO!\n",
      "\n",
      "       Cidade       Data  Vendas  LojaID  Qtde\n",
      "0    Salvador 2018-01-01   31.06    1037     3\n",
      "1    Salvador 2018-01-01   19.02    1034     3\n",
      "2    Salvador 2019-02-10  173.59    1035     3\n",
      "3    Salvador 2019-02-10  176.34    1037     3\n",
      "4    Salvador 2019-02-14   19.47    1037     3\n",
      "..        ...        ...     ...     ...   ...\n",
      "235  Salvador 2019-01-03   41.84    1034     1\n",
      "236  Salvador 2019-01-03  126.29    1035     3\n",
      "237  Salvador 2019-01-03   38.06    1036     3\n",
      "238  Salvador 2019-01-03  139.64    1035     1\n",
      "239  Salvador 2019-01-03  161.41    1037     3\n",
      "\n",
      "[240 rows x 5 columns] VALIDADO!\n",
      "\n"
     ]
    }
   ],
   "source": [
    "# Automatizando a validação de todos os DF carregados\n",
    "\n",
    "dataframes = [df1, df2, df3, df4, df5]\n",
    "for df in dataframes:\n",
    "    schema.validate(df)\n",
    "    print(\"{} VALIDADO!\\n\".format(df))"
   ]
  },
  {
   "cell_type": "code",
   "execution_count": 8,
   "id": "b131b5bf",
   "metadata": {},
   "outputs": [
    {
     "data": {
      "text/html": [
       "<div>\n",
       "<style scoped>\n",
       "    .dataframe tbody tr th:only-of-type {\n",
       "        vertical-align: middle;\n",
       "    }\n",
       "\n",
       "    .dataframe tbody tr th {\n",
       "        vertical-align: top;\n",
       "    }\n",
       "\n",
       "    .dataframe thead th {\n",
       "        text-align: right;\n",
       "    }\n",
       "</style>\n",
       "<table border=\"1\" class=\"dataframe\">\n",
       "  <thead>\n",
       "    <tr style=\"text-align: right;\">\n",
       "      <th></th>\n",
       "      <th>Cidade</th>\n",
       "      <th>Data</th>\n",
       "      <th>Vendas</th>\n",
       "      <th>LojaID</th>\n",
       "      <th>Qtde</th>\n",
       "    </tr>\n",
       "  </thead>\n",
       "  <tbody>\n",
       "    <tr>\n",
       "      <th>0</th>\n",
       "      <td>Aracaju</td>\n",
       "      <td>2018-01-01</td>\n",
       "      <td>142.00</td>\n",
       "      <td>1520</td>\n",
       "      <td>1</td>\n",
       "    </tr>\n",
       "    <tr>\n",
       "      <th>1</th>\n",
       "      <td>Aracaju</td>\n",
       "      <td>2018-01-01</td>\n",
       "      <td>14.21</td>\n",
       "      <td>1522</td>\n",
       "      <td>6</td>\n",
       "    </tr>\n",
       "    <tr>\n",
       "      <th>2</th>\n",
       "      <td>Aracaju</td>\n",
       "      <td>2018-01-01</td>\n",
       "      <td>71.55</td>\n",
       "      <td>1520</td>\n",
       "      <td>1</td>\n",
       "    </tr>\n",
       "    <tr>\n",
       "      <th>3</th>\n",
       "      <td>Aracaju</td>\n",
       "      <td>2018-01-01</td>\n",
       "      <td>3.01</td>\n",
       "      <td>1521</td>\n",
       "      <td>7</td>\n",
       "    </tr>\n",
       "    <tr>\n",
       "      <th>4</th>\n",
       "      <td>Aracaju</td>\n",
       "      <td>2018-01-01</td>\n",
       "      <td>24.51</td>\n",
       "      <td>1522</td>\n",
       "      <td>8</td>\n",
       "    </tr>\n",
       "    <tr>\n",
       "      <th>...</th>\n",
       "      <td>...</td>\n",
       "      <td>...</td>\n",
       "      <td>...</td>\n",
       "      <td>...</td>\n",
       "      <td>...</td>\n",
       "    </tr>\n",
       "    <tr>\n",
       "      <th>235</th>\n",
       "      <td>Salvador</td>\n",
       "      <td>2019-01-03</td>\n",
       "      <td>41.84</td>\n",
       "      <td>1034</td>\n",
       "      <td>1</td>\n",
       "    </tr>\n",
       "    <tr>\n",
       "      <th>236</th>\n",
       "      <td>Salvador</td>\n",
       "      <td>2019-01-03</td>\n",
       "      <td>126.29</td>\n",
       "      <td>1035</td>\n",
       "      <td>3</td>\n",
       "    </tr>\n",
       "    <tr>\n",
       "      <th>237</th>\n",
       "      <td>Salvador</td>\n",
       "      <td>2019-01-03</td>\n",
       "      <td>38.06</td>\n",
       "      <td>1036</td>\n",
       "      <td>3</td>\n",
       "    </tr>\n",
       "    <tr>\n",
       "      <th>238</th>\n",
       "      <td>Salvador</td>\n",
       "      <td>2019-01-03</td>\n",
       "      <td>139.64</td>\n",
       "      <td>1035</td>\n",
       "      <td>1</td>\n",
       "    </tr>\n",
       "    <tr>\n",
       "      <th>239</th>\n",
       "      <td>Salvador</td>\n",
       "      <td>2019-01-03</td>\n",
       "      <td>161.41</td>\n",
       "      <td>1037</td>\n",
       "      <td>3</td>\n",
       "    </tr>\n",
       "  </tbody>\n",
       "</table>\n",
       "<p>894 rows × 5 columns</p>\n",
       "</div>"
      ],
      "text/plain": [
       "       Cidade       Data  Vendas  LojaID  Qtde\n",
       "0     Aracaju 2018-01-01  142.00    1520     1\n",
       "1     Aracaju 2018-01-01   14.21    1522     6\n",
       "2     Aracaju 2018-01-01   71.55    1520     1\n",
       "3     Aracaju 2018-01-01    3.01    1521     7\n",
       "4     Aracaju 2018-01-01   24.51    1522     8\n",
       "..        ...        ...     ...     ...   ...\n",
       "235  Salvador 2019-01-03   41.84    1034     1\n",
       "236  Salvador 2019-01-03  126.29    1035     3\n",
       "237  Salvador 2019-01-03   38.06    1036     3\n",
       "238  Salvador 2019-01-03  139.64    1035     1\n",
       "239  Salvador 2019-01-03  161.41    1037     3\n",
       "\n",
       "[894 rows x 5 columns]"
      ]
     },
     "execution_count": 8,
     "metadata": {},
     "output_type": "execute_result"
    }
   ],
   "source": [
    "# Unificando todos os DF's em um único DF\n",
    "df = pd.concat(dataframes)\n",
    "schema.validate(df)"
   ]
  },
  {
   "cell_type": "code",
   "execution_count": 9,
   "id": "06a02645",
   "metadata": {},
   "outputs": [
    {
     "data": {
      "text/plain": [
       "Cidade    894\n",
       "Data      894\n",
       "Vendas    894\n",
       "LojaID    894\n",
       "Qtde      894\n",
       "dtype: int64"
      ]
     },
     "execution_count": 9,
     "metadata": {},
     "output_type": "execute_result"
    }
   ],
   "source": [
    "df.count()"
   ]
  },
  {
   "cell_type": "markdown",
   "id": "d920e94b",
   "metadata": {},
   "source": [
    "## Transformação dos dados"
   ]
  },
  {
   "cell_type": "code",
   "execution_count": 10,
   "id": "0e925032",
   "metadata": {},
   "outputs": [
    {
     "data": {
      "text/plain": [
       "Cidade            object\n",
       "Data      datetime64[ns]\n",
       "Vendas           float64\n",
       "LojaID            object\n",
       "Qtde               int64\n",
       "dtype: object"
      ]
     },
     "execution_count": 10,
     "metadata": {},
     "output_type": "execute_result"
    }
   ],
   "source": [
    "#Alterando o tipo de dado em LojaID\n",
    "df['LojaID'] = df['LojaID'].astype(object)\n",
    "df.dtypes"
   ]
  },
  {
   "cell_type": "code",
   "execution_count": 11,
   "id": "1c277b23",
   "metadata": {},
   "outputs": [
    {
     "data": {
      "text/html": [
       "<div>\n",
       "<style scoped>\n",
       "    .dataframe tbody tr th:only-of-type {\n",
       "        vertical-align: middle;\n",
       "    }\n",
       "\n",
       "    .dataframe tbody tr th {\n",
       "        vertical-align: top;\n",
       "    }\n",
       "\n",
       "    .dataframe thead th {\n",
       "        text-align: right;\n",
       "    }\n",
       "</style>\n",
       "<table border=\"1\" class=\"dataframe\">\n",
       "  <thead>\n",
       "    <tr style=\"text-align: right;\">\n",
       "      <th></th>\n",
       "      <th>Cidade</th>\n",
       "      <th>Data</th>\n",
       "      <th>Vendas</th>\n",
       "      <th>LojaID</th>\n",
       "      <th>Qtde</th>\n",
       "      <th>TotalVenda</th>\n",
       "    </tr>\n",
       "  </thead>\n",
       "  <tbody>\n",
       "    <tr>\n",
       "      <th>48</th>\n",
       "      <td>Natal</td>\n",
       "      <td>2018-09-20</td>\n",
       "      <td>676.00</td>\n",
       "      <td>852</td>\n",
       "      <td>4</td>\n",
       "      <td>2704.00</td>\n",
       "    </tr>\n",
       "    <tr>\n",
       "      <th>185</th>\n",
       "      <td>Natal</td>\n",
       "      <td>2019-01-02</td>\n",
       "      <td>6.67</td>\n",
       "      <td>1036</td>\n",
       "      <td>1</td>\n",
       "      <td>6.67</td>\n",
       "    </tr>\n",
       "    <tr>\n",
       "      <th>94</th>\n",
       "      <td>Salvador</td>\n",
       "      <td>2019-01-01</td>\n",
       "      <td>33.24</td>\n",
       "      <td>1037</td>\n",
       "      <td>1</td>\n",
       "      <td>33.24</td>\n",
       "    </tr>\n",
       "    <tr>\n",
       "      <th>220</th>\n",
       "      <td>Salvador</td>\n",
       "      <td>2019-01-02</td>\n",
       "      <td>42.71</td>\n",
       "      <td>1035</td>\n",
       "      <td>1</td>\n",
       "      <td>42.71</td>\n",
       "    </tr>\n",
       "    <tr>\n",
       "      <th>73</th>\n",
       "      <td>Aracaju</td>\n",
       "      <td>2018-01-01</td>\n",
       "      <td>159.78</td>\n",
       "      <td>1521</td>\n",
       "      <td>3</td>\n",
       "      <td>479.34</td>\n",
       "    </tr>\n",
       "  </tbody>\n",
       "</table>\n",
       "</div>"
      ],
      "text/plain": [
       "       Cidade       Data  Vendas LojaID  Qtde  TotalVenda\n",
       "48      Natal 2018-09-20  676.00    852     4     2704.00\n",
       "185     Natal 2019-01-02    6.67   1036     1        6.67\n",
       "94   Salvador 2019-01-01   33.24   1037     1       33.24\n",
       "220  Salvador 2019-01-02   42.71   1035     1       42.71\n",
       "73    Aracaju 2018-01-01  159.78   1521     3      479.34"
      ]
     },
     "execution_count": 11,
     "metadata": {},
     "output_type": "execute_result"
    }
   ],
   "source": [
    "# Criar nova coluna valor TotalVenda\n",
    "df[\"TotalVenda\"] = df[\"Vendas\"] * df[\"Qtde\"]\n",
    "df.sample(5)"
   ]
  },
  {
   "cell_type": "code",
   "execution_count": 12,
   "id": "add0316d",
   "metadata": {},
   "outputs": [
    {
     "data": {
      "text/html": [
       "<div>\n",
       "<style scoped>\n",
       "    .dataframe tbody tr th:only-of-type {\n",
       "        vertical-align: middle;\n",
       "    }\n",
       "\n",
       "    .dataframe tbody tr th {\n",
       "        vertical-align: top;\n",
       "    }\n",
       "\n",
       "    .dataframe thead th {\n",
       "        text-align: right;\n",
       "    }\n",
       "</style>\n",
       "<table border=\"1\" class=\"dataframe\">\n",
       "  <thead>\n",
       "    <tr style=\"text-align: right;\">\n",
       "      <th></th>\n",
       "      <th>Cidade</th>\n",
       "      <th>Data</th>\n",
       "      <th>Vendas</th>\n",
       "      <th>LojaID</th>\n",
       "      <th>Qtde</th>\n",
       "      <th>TotalVenda</th>\n",
       "      <th>AnoVenda</th>\n",
       "      <th>MesVenda</th>\n",
       "      <th>DiaVenda</th>\n",
       "    </tr>\n",
       "  </thead>\n",
       "  <tbody>\n",
       "    <tr>\n",
       "      <th>31</th>\n",
       "      <td>Salvador</td>\n",
       "      <td>2019-01-01</td>\n",
       "      <td>202.25</td>\n",
       "      <td>1035</td>\n",
       "      <td>2</td>\n",
       "      <td>404.50</td>\n",
       "      <td>2019</td>\n",
       "      <td>1</td>\n",
       "      <td>1</td>\n",
       "    </tr>\n",
       "    <tr>\n",
       "      <th>36</th>\n",
       "      <td>Fortaleza</td>\n",
       "      <td>2019-01-01</td>\n",
       "      <td>36.31</td>\n",
       "      <td>1004</td>\n",
       "      <td>2</td>\n",
       "      <td>72.62</td>\n",
       "      <td>2019</td>\n",
       "      <td>1</td>\n",
       "      <td>1</td>\n",
       "    </tr>\n",
       "    <tr>\n",
       "      <th>193</th>\n",
       "      <td>Salvador</td>\n",
       "      <td>2019-01-02</td>\n",
       "      <td>3.97</td>\n",
       "      <td>1036</td>\n",
       "      <td>2</td>\n",
       "      <td>7.94</td>\n",
       "      <td>2019</td>\n",
       "      <td>1</td>\n",
       "      <td>2</td>\n",
       "    </tr>\n",
       "    <tr>\n",
       "      <th>1</th>\n",
       "      <td>Salvador</td>\n",
       "      <td>2018-01-01</td>\n",
       "      <td>19.02</td>\n",
       "      <td>1034</td>\n",
       "      <td>3</td>\n",
       "      <td>57.06</td>\n",
       "      <td>2018</td>\n",
       "      <td>1</td>\n",
       "      <td>1</td>\n",
       "    </tr>\n",
       "    <tr>\n",
       "      <th>60</th>\n",
       "      <td>Aracaju</td>\n",
       "      <td>2018-01-01</td>\n",
       "      <td>215.88</td>\n",
       "      <td>1521</td>\n",
       "      <td>3</td>\n",
       "      <td>647.64</td>\n",
       "      <td>2018</td>\n",
       "      <td>1</td>\n",
       "      <td>1</td>\n",
       "    </tr>\n",
       "  </tbody>\n",
       "</table>\n",
       "</div>"
      ],
      "text/plain": [
       "        Cidade       Data  Vendas LojaID  Qtde  TotalVenda  AnoVenda  \\\n",
       "31    Salvador 2019-01-01  202.25   1035     2      404.50      2019   \n",
       "36   Fortaleza 2019-01-01   36.31   1004     2       72.62      2019   \n",
       "193   Salvador 2019-01-02    3.97   1036     2        7.94      2019   \n",
       "1     Salvador 2018-01-01   19.02   1034     3       57.06      2018   \n",
       "60     Aracaju 2018-01-01  215.88   1521     3      647.64      2018   \n",
       "\n",
       "     MesVenda  DiaVenda  \n",
       "31          1         1  \n",
       "36          1         1  \n",
       "193         1         2  \n",
       "1           1         1  \n",
       "60          1         1  "
      ]
     },
     "execution_count": 12,
     "metadata": {},
     "output_type": "execute_result"
    }
   ],
   "source": [
    "# Criação das colunas AnoVenda, MesVenda, DiaVenda\n",
    "df[\"AnoVenda\"], df[\"MesVenda\"], df[\"DiaVenda\"] = df['Data'].dt.year, df['Data'].dt.month, df['Data'].dt.day\n",
    "df.sample(5)"
   ]
  },
  {
   "cell_type": "markdown",
   "id": "8cdd6dd7",
   "metadata": {},
   "source": [
    "## Análise exploratória do dados"
   ]
  },
  {
   "cell_type": "code",
   "execution_count": 13,
   "id": "41f2ce24",
   "metadata": {
    "scrolled": false
   },
   "outputs": [
    {
     "name": "stdout",
     "output_type": "stream",
     "text": [
      "Cidade\n",
      "Fortaleza     37913.97\n",
      "Salvador      40596.73\n",
      "Aracaju       48748.25\n",
      "Recife        51936.51\n",
      "Natal        167227.52\n",
      "Name: TotalVenda, dtype: float64\n"
     ]
    }
   ],
   "source": [
    "# Total da receita de cada cidade\n",
    "print(df.groupby(['Cidade']).TotalVenda.sum().sort_values(ascending=True))"
   ]
  },
  {
   "cell_type": "code",
   "execution_count": 14,
   "id": "0a5b1ca4",
   "metadata": {},
   "outputs": [
    {
     "data": {
      "text/plain": [
       "Cidade\n",
       "Aracaju      130\n",
       "Fortaleza    142\n",
       "Recife       142\n",
       "Natal        240\n",
       "Salvador     240\n",
       "dtype: int64"
      ]
     },
     "execution_count": 14,
     "metadata": {},
     "output_type": "execute_result"
    }
   ],
   "source": [
    "# Volume total de vendas para cada Cidade\n",
    "df.groupby(['Cidade']).size().sort_values(ascending=True)"
   ]
  },
  {
   "cell_type": "code",
   "execution_count": 15,
   "id": "1b595525",
   "metadata": {},
   "outputs": [
    {
     "data": {
      "text/plain": [
       "Cidade     LojaID\n",
       "Aracaju    1520      39\n",
       "           1521      21\n",
       "           1522      41\n",
       "           1523      29\n",
       "Fortaleza  980        5\n",
       "           981        6\n",
       "           982       10\n",
       "           983       13\n",
       "           1002      30\n",
       "           1003      20\n",
       "           1004      28\n",
       "           1005      30\n",
       "Natal      852       29\n",
       "           853       26\n",
       "           854       28\n",
       "           1034      23\n",
       "           1035      44\n",
       "           1036      49\n",
       "           1037      41\n",
       "Recife     980       31\n",
       "           981       25\n",
       "           982       34\n",
       "           983       52\n",
       "Salvador   1034      44\n",
       "           1035      68\n",
       "           1036      68\n",
       "           1037      60\n",
       "dtype: int64"
      ]
     },
     "execution_count": 15,
     "metadata": {},
     "output_type": "execute_result"
    }
   ],
   "source": [
    "# Volume total de vendas para cada Cidade/Loja\n",
    "df.groupby(['Cidade', 'LojaID']).size()"
   ]
  },
  {
   "cell_type": "code",
   "execution_count": 16,
   "id": "868461b4",
   "metadata": {},
   "outputs": [
    {
     "data": {
      "text/plain": [
       "Cidade     LojaID\n",
       "Aracaju    1520      12787.81\n",
       "           1521       9421.48\n",
       "           1522      15103.92\n",
       "           1523      11435.04\n",
       "Fortaleza  980        2478.93\n",
       "           981        1006.72\n",
       "           982        3920.33\n",
       "           983        5239.50\n",
       "           1002       7983.09\n",
       "           1003       6731.86\n",
       "           1004       4261.30\n",
       "           1005       6292.24\n",
       "Natal      852       52744.00\n",
       "           853       42469.00\n",
       "           854       46655.00\n",
       "           1034       2975.93\n",
       "           1035       6781.80\n",
       "           1036       9045.77\n",
       "           1037       6556.02\n",
       "Recife     980       11119.69\n",
       "           981       10742.15\n",
       "           982       11899.00\n",
       "           983       18175.67\n",
       "Salvador   1034       5487.82\n",
       "           1035      11911.64\n",
       "           1036      13189.84\n",
       "           1037      10007.43\n",
       "Name: TotalVenda, dtype: float64"
      ]
     },
     "execution_count": 16,
     "metadata": {},
     "output_type": "execute_result"
    }
   ],
   "source": [
    "# Total valor vendido por Cidade / LojaID\n",
    "df.groupby(['Cidade', 'LojaID']).TotalVenda.sum()"
   ]
  },
  {
   "cell_type": "markdown",
   "id": "345e0b34",
   "metadata": {},
   "source": [
    "## Análise exploratória - Gráficos"
   ]
  },
  {
   "cell_type": "code",
   "execution_count": 17,
   "id": "457507db",
   "metadata": {},
   "outputs": [
    {
     "data": {
      "image/png": "[encoded data removed]",
      "text/plain": [
       "<Figure size 864x576 with 1 Axes>"
      ]
     },
     "metadata": {
      "needs_background": "light"
     },
     "output_type": "display_data"
    }
   ],
   "source": [
    "df[\"Cidade\"].value_counts().plot.barh(figsize=(12,8))\n",
    "\n",
    "plt.title(\"Total vendas realizadas por Cidade\")\n",
    "plt.xlabel(\"Cidade\")\n",
    "plt.ylabel(\"Total Vendas Realizadas\", )\n",
    "plt.show()"
   ]
  },
  {
   "cell_type": "code",
   "execution_count": 18,
   "id": "e353da5e",
   "metadata": {},
   "outputs": [
    {
     "data": {
      "image/png": "[encoded data removed]",
      "text/plain": [
       "<Figure size 720x576 with 1 Axes>"
      ]
     },
     "metadata": {
      "needs_background": "light"
     },
     "output_type": "display_data"
    },
    {
     "data": {
      "image/png": "[encoded data removed]",
      "text/plain": [
       "<Figure size 720x576 with 1 Axes>"
      ]
     },
     "metadata": {
      "needs_background": "light"
     },
     "output_type": "display_data"
    }
   ],
   "source": [
    "qtd_loja = df.groupby(['Cidade', 'LojaID']).size()\n",
    "total_venda = df.groupby(['Cidade', 'LojaID']).TotalVenda.sum()\n",
    "\n",
    "qtd_loja.plot.barh(figsize=(10,8))\n",
    "plt.title(\"Total de vendas realizadas para cada Cidade/LojaID\")\n",
    "plt.show()\n",
    "\n",
    "plt.title(\"Total valor vendido por Cidade / LojaID\")\n",
    "total_venda.plot.barh(figsize=(10,8), alpha = .7)\n",
    "plt.show()"
   ]
  },
  {
   "cell_type": "code",
   "execution_count": 19,
   "id": "ec3f11f4",
   "metadata": {},
   "outputs": [
    {
     "data": {
      "image/png": "[encoded data removed]",
      "text/plain": [
       "<Figure size 720x576 with 1 Axes>"
      ]
     },
     "metadata": {},
     "output_type": "display_data"
    }
   ],
   "source": [
    "df.groupby(['Cidade'])['TotalVenda'].sum().plot.pie(figsize = (10,8))\n",
    "\n",
    "plt.title(\"Total valor vendido por Cidade\")\n",
    "plt.show()"
   ]
  },
  {
   "cell_type": "code",
   "execution_count": 20,
   "id": "b98f43bc",
   "metadata": {},
   "outputs": [
    {
     "data": {
      "text/plain": [
       "<AxesSubplot:xlabel='MesVenda'>"
      ]
     },
     "execution_count": 20,
     "metadata": {},
     "output_type": "execute_result"
    },
    {
     "data": {
      "image/png": "[encoded data removed]",
      "text/plain": [
       "<Figure size 864x576 with 1 Axes>"
      ]
     },
     "metadata": {
      "needs_background": "light"
     },
     "output_type": "display_data"
    }
   ],
   "source": [
    "#Total valor vendido por mês-ano 2018\n",
    "vendas_2018 = df[df['AnoVenda'] == 2018]\n",
    "vendas_2018.groupby(['MesVenda'])['TotalVenda'].sum().plot(marker='o', figsize=(12,8))"
   ]
  },
  {
   "cell_type": "code",
   "execution_count": 21,
   "id": "b85c0508",
   "metadata": {},
   "outputs": [
    {
     "data": {
      "text/plain": [
       "<AxesSubplot:xlabel='MesVenda'>"
      ]
     },
     "execution_count": 21,
     "metadata": {},
     "output_type": "execute_result"
    },
    {
     "data": {
      "image/png": "[encoded data removed]",
      "text/plain": [
       "<Figure size 864x576 with 1 Axes>"
      ]
     },
     "metadata": {
      "needs_background": "light"
     },
     "output_type": "display_data"
    }
   ],
   "source": [
    "#Total valor vendido por mês-ano 2019\n",
    "vendas_2019 = df[df['AnoVenda'] == 2019]\n",
    "vendas_2019.groupby(['MesVenda'])['TotalVenda'].sum().plot(marker='o', figsize=(12,8))"
   ]
  },
  {
   "cell_type": "code",
   "execution_count": 22,
   "id": "03dce6ba",
   "metadata": {},
   "outputs": [
    {
     "data": {
      "text/html": [
       "<div>\n",
       "<style scoped>\n",
       "    .dataframe tbody tr th:only-of-type {\n",
       "        vertical-align: middle;\n",
       "    }\n",
       "\n",
       "    .dataframe tbody tr th {\n",
       "        vertical-align: top;\n",
       "    }\n",
       "\n",
       "    .dataframe thead th {\n",
       "        text-align: right;\n",
       "    }\n",
       "</style>\n",
       "<table border=\"1\" class=\"dataframe\">\n",
       "  <thead>\n",
       "    <tr style=\"text-align: right;\">\n",
       "      <th></th>\n",
       "      <th>Cidade</th>\n",
       "      <th>Data</th>\n",
       "      <th>Vendas</th>\n",
       "      <th>LojaID</th>\n",
       "      <th>Qtde</th>\n",
       "      <th>TotalVenda</th>\n",
       "      <th>AnoVenda</th>\n",
       "      <th>MesVenda</th>\n",
       "      <th>DiaVenda</th>\n",
       "    </tr>\n",
       "  </thead>\n",
       "  <tbody>\n",
       "    <tr>\n",
       "      <th>117</th>\n",
       "      <td>Salvador</td>\n",
       "      <td>2019-03-02</td>\n",
       "      <td>39.41</td>\n",
       "      <td>1034</td>\n",
       "      <td>1</td>\n",
       "      <td>39.41</td>\n",
       "      <td>2019</td>\n",
       "      <td>3</td>\n",
       "      <td>2</td>\n",
       "    </tr>\n",
       "  </tbody>\n",
       "</table>\n",
       "</div>"
      ],
      "text/plain": [
       "       Cidade       Data  Vendas LojaID  Qtde  TotalVenda  AnoVenda  MesVenda  \\\n",
       "117  Salvador 2019-03-02   39.41   1034     1       39.41      2019         3   \n",
       "\n",
       "     DiaVenda  \n",
       "117         2  "
      ]
     },
     "execution_count": 22,
     "metadata": {},
     "output_type": "execute_result"
    }
   ],
   "source": [
    "df.sample()"
   ]
  },
  {
   "cell_type": "code",
   "execution_count": 23,
   "id": "822ef317",
   "metadata": {},
   "outputs": [
    {
     "data": {
      "text/plain": [
       "<AxesSubplot:xlabel='Data'>"
      ]
     },
     "execution_count": 23,
     "metadata": {},
     "output_type": "execute_result"
    },
    {
     "data": {
      "image/png": "[encoded data removed]",
      "text/plain": [
       "<Figure size 864x576 with 1 Axes>"
      ]
     },
     "metadata": {
      "needs_background": "light"
     },
     "output_type": "display_data"
    }
   ],
   "source": [
    "lj_salvador = df[df['Cidade'] == 'Salvador']\n",
    "lj_salvador.groupby(['Data'])['TotalVenda'].sum().plot.bar(figsize=(12,8))"
   ]
  },
  {
   "cell_type": "code",
   "execution_count": null,
   "id": "7d3c3718",
   "metadata": {},
   "outputs": [],
   "source": []
  }
 ],
 "metadata": {
  "kernelspec": {
   "display_name": "Python 3 (ipykernel)",
   "language": "python",
   "name": "python3"
  },
  "language_info": {
   "codemirror_mode": {
    "name": "ipython",
    "version": 3
   },
   "file_extension": ".py",
   "mimetype": "text/x-python",
   "name": "python",
   "nbconvert_exporter": "python",
   "pygments_lexer": "ipython3",
   "version": "3.8.5"
  }
 },
 "nbformat": 4,
 "nbformat_minor": 5
}
